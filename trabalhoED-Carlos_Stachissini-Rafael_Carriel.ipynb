{
 "cells": [
  {
   "cell_type": "code",
   "execution_count": 2,
   "id": "4c77f89d",
   "metadata": {},
   "outputs": [],
   "source": [
    "from scipy.optimize import NonlinearConstraint, LinearConstraint, differential_evolution, Bounds\n",
    "import numpy as np\n",
    "import math as math"
   ]
  },
  {
   "cell_type": "code",
   "execution_count": 35,
   "id": "0f380064",
   "metadata": {
    "scrolled": true
   },
   "outputs": [
    {
     "name": "stdout",
     "output_type": "stream",
     "text": [
      "627.3729064025\n",
      "301.7078339459\n",
      "354.4535703653\n",
      "174.8319143856\n",
      "124.1006396478\n",
      "158.3117021958\n",
      "164.4207194487\n",
      "165.8524283497\n",
      "120.6038521309\n",
      "104.1925239273\n",
      "76.5203603940\n",
      "74.7458693170\n",
      "97.2508469093\n",
      "Potencia total: 2544.3651674197818\n",
      "custo: 25156.309666271893\n"
     ]
    }
   ],
   "source": [
    "numero_geradores=13\n",
    "potencia_dem=2520\n",
    "potencia_min=[0,0,0,60,60,60,60,60,60,40,40,55,55]\n",
    "potencia_max=[680,360,360, 200,200,200,200,200,200,120,120,120, 120]\n",
    "a=[0.00028,0.00056,0.00056,0.00324,0.00324,0.00324,0.00324,0.00324,0.00324,0.00284,0.00284,0.00284,0.00284]\n",
    "b=[8.10,8.10,8.10,7.74,7.74,7.74,7.74,7.74,7.74,8.60,8.60,8.60,8.60]\n",
    "c=[550,309,307,240,240,240,240,240,240,126,126,126,126]\n",
    "d=[300,200,150,150,150,150,150,150,150,100,100,100,100]\n",
    "e=[0.035,0.042,0.042,0.063,0.063,0.063,0.063,0.063,0.063,0.084,0.084,0.084,0.084]\n",
    "\n",
    "bound=[\n",
    "    [potencia_min[0],potencia_max[0]],\n",
    "    [potencia_min[1],potencia_max[1]],\n",
    "    [potencia_min[2],potencia_max[2]],\n",
    "    [potencia_min[3],potencia_max[3]],\n",
    "    [potencia_min[4],potencia_max[4]],\n",
    "    [potencia_min[5],potencia_max[5]],\n",
    "    [potencia_min[6],potencia_max[6]],\n",
    "    [potencia_min[7],potencia_max[7]],\n",
    "    [potencia_min[8],potencia_max[8]],\n",
    "    [potencia_min[9],potencia_max[9]],\n",
    "    [potencia_min[10],potencia_max[10]],\n",
    "    [potencia_min[11],potencia_max[11]],\n",
    "    [potencia_min[12],potencia_max[12]]\n",
    "]\n",
    "\n",
    "def func(x):\n",
    "    soma=0\n",
    "    for i in range(len(x)):\n",
    "        soma += a[i]*x[i]**2 + b[i]*x[i] + c[i] + abs(d[i] * math.sin(e[i]*(potencia_min[i]-x[i])))\n",
    "    return soma\n",
    "\n",
    "def potencia(x):\n",
    "    soma=0\n",
    "    for i in range(len(x)):\n",
    "        soma+=x[i]\n",
    "    return soma\n",
    "\n",
    "limit=NonlinearConstraint(potencia, potencia_dem, np.inf) \n",
    "#limit=Bounds(potencia_dem)\n",
    "\n",
    "result=differential_evolution(func, bound ,args=(),\n",
    "strategy='rand1exp', maxiter=1000, popsize=3, tol=0.01,\n",
    "mutation=(1, 1.4), recombination=0.20, seed=None,\n",
    "polish=False, init='latinhypercube',\n",
    "atol=0, updating='immediate', workers=1,\n",
    "constraints=(limit),\n",
    "x0=None, integrality=None, vectorized=False)\n",
    "\n",
    "sum_potencia=0\n",
    "for i in result.x:\n",
    "    sum_potencia+=i\n",
    "    print(f'{i:.10f}')\n",
    "print(\"Potencia total: \" + str(sum_potencia))\n",
    "print(\"custo: \" + str(func(result.x)))"
   ]
  }
 ],
 "metadata": {
  "kernelspec": {
   "display_name": "Python 3",
   "language": "python",
   "name": "python3"
  },
  "language_info": {
   "codemirror_mode": {
    "name": "ipython",
    "version": 3
   },
   "file_extension": ".py",
   "mimetype": "text/x-python",
   "name": "python",
   "nbconvert_exporter": "python",
   "pygments_lexer": "ipython3",
   "version": "3.10.8"
  },
  "vscode": {
   "interpreter": {
    "hash": "369f2c481f4da34e4445cda3fffd2e751bd1c4d706f27375911949ba6bb62e1c"
   }
  }
 },
 "nbformat": 4,
 "nbformat_minor": 5
}
