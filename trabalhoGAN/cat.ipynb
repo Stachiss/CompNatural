{
  "cells": [
    {
      "cell_type": "code",
      "execution_count": 42,
      "metadata": {
        "id": "SbLI2mW-t8S5"
      },
      "outputs": [],
      "source": [
        "from keras.optimizers import Adam\n",
        "from keras.models import Sequential\n",
        "from keras.layers import Dense, Flatten,Conv2D, Dropout, LeakyReLU, Reshape, Conv2DTranspose\n",
        "from keras.datasets.mnist import load_data\n",
        "from numpy import ones\n",
        "from numpy.random import randint\n",
        "from numpy.random import rand, randn\n",
        "from numpy import zeros"
      ]
    },
    {
      "cell_type": "code",
      "execution_count": 43,
      "metadata": {
        "id": "83iv6fG0t8S6"
      },
      "outputs": [],
      "source": [
        "(train_dados, train_rotulos),(teste_dados, teste_rotulos) = load_data()\n",
        "train_dados = train_dados/255.0\n",
        "teste_dados = teste_dados/255.0"
      ]
    },
    {
      "cell_type": "code",
      "execution_count": 44,
      "metadata": {
        "id": "KIa_aE3Mt8S7"
      },
      "outputs": [],
      "source": [
        "def descriminador(input_shape = (28,28,1)):\n",
        "  model = Sequential()\n",
        "  model.add(Conv2D(64,(3,3), strides=(2,2), padding = 'same', input_shape = input_shape))\n",
        "  model.add(LeakyReLU(alpha=0.2))\n",
        "  model.add(Dropout(0.4))\n",
        "  model.add(Conv2D(64,(3,3), strides=(2,2), padding = 'same'))\n",
        "  model.add(Dropout(0.4))\n",
        "  model.add(Flatten())\n",
        "  model.add(Dense(1,activation='sigmoid'))\n",
        "  opt =Adam(lr = 0.0002, beta_1= 0.5)\n",
        "  model.compile(loss = 'binary_crossentropy', optimizer = opt, metrics= ['accuracy'])\n",
        "  return model"
      ]
    },
    {
      "cell_type": "code",
      "execution_count": 45,
      "metadata": {
        "id": "WQOhX48Rt8S7"
      },
      "outputs": [],
      "source": [
        "def geradora(dim_latente):\n",
        "  modelo = Sequential()\n",
        "  num_neuronios = 128*7*7\n",
        "  modelo.add(Dense(num_neuronios, input_shape = dim_latente))\n",
        "  modelo.add(LeakyReLU(alpha = 0.2))\n",
        "  modelo.add(Reshape((7,7,128)))\n",
        "  modelo.add(Conv2DTranspose(128,(4,4),strides = (2,2), padding = 'same'))\n",
        "  modelo.add(LeakyReLU(alpha = 0.2))\n",
        "  modelo.add(Conv2DTranspose(128,(4,4),strides = (2,2), padding = 'same'))\n",
        "  modelo.add(LeakyReLU(alpha = 0.2))\n",
        "  modelo.add(Conv2D(1,(7,7), activation = 'sigmoid', padding = 'same'))\n",
        "  return modelo"
      ]
    },
    {
      "cell_type": "code",
      "execution_count": 46,
      "metadata": {
        "id": "9XrhxnJNt8S7"
      },
      "outputs": [],
      "source": [
        "def gan(modelo_g, modelo_d):\n",
        "  modelo_d.trainable = False\n",
        "  modelo = Sequential()\n",
        "  modelo.add(modelo_g)\n",
        "  modelo.add(modelo_d)\n",
        "  opt = Adam(lr = 0.0002, beta_1= 0.5)\n",
        "  modelo.compile(loss = 'binary_crossentropy', optimizer = opt)\n",
        "  return modelo"
      ]
    },
    {
      "cell_type": "code",
      "execution_count": 47,
      "metadata": {
        "id": "Ylv1av7Qt8S8"
      },
      "outputs": [],
      "source": [
        "def gera_pontos_latentes(dim_latente, num_amostras):\n",
        "\tdados = randn(dim_latente * num_amostras)\n",
        "\tdados = dados.reshape(num_amostras, dim_latente)\n",
        "\treturn dados"
      ]
    },
    {
      "cell_type": "code",
      "execution_count": 48,
      "metadata": {
        "id": "JgFKwC8It8S8"
      },
      "outputs": [],
      "source": [
        "def gera_reais(dados, num_amostras):\n",
        "\tindices = randint(0, dados.shape[0], num_amostras)\n",
        "\tdados_reais = dados[indices]\n",
        "\trotulos_reais = ones((num_amostras, 1))\n",
        "\treturn dados_reais, rotulos_reais"
      ]
    },
    {
      "cell_type": "code",
      "execution_count": 49,
      "metadata": {
        "id": "7XTIwOvkt8S9"
      },
      "outputs": [],
      "source": [
        "def gera_falsos(num_amostras):\n",
        "    dados_falsos = rand(28 * 28 * num_amostras)\n",
        "    dados_falsos = dados_falsos.reshape(num_amostras, 28, 28, 1)\n",
        "    rotulos_falsos = zeros((num_amostras, 1))\n",
        "    return dados_falsos, rotulos_falsos"
      ]
    },
    {
      "cell_type": "code",
      "execution_count": 50,
      "metadata": {
        "id": "h9VQCNFWt8S8"
      },
      "outputs": [],
      "source": [
        "def gera_falsos_redegeradora(modelo_geradora, num_amostras, dim_latente):\n",
        "    pontos_latentes = gera_pontos_latentes(dim_latente, num_amostras)\n",
        "    dados_falsos_gerados = modelo_geradora.predict(pontos_latentes)\n",
        "    rotulos_falsos = zeros((num_amostras, 1))\n",
        "    return dados_falsos_gerados, rotulos_falsos"
      ]
    },
    {
      "cell_type": "code",
      "execution_count": 51,
      "metadata": {
        "id": "gBRdafGQt8S9"
      },
      "outputs": [],
      "source": [
        "def treina(modelo_g, modelo_d, modelo_gan, dados, dim_latente, num_epocas=100, tam_batch=256):\n",
        "    batches_por_epoca = int(dados.shape[0] / tam_batch)\n",
        "    metade_batch = tam_batch // 2\n",
        "    for i in range(num_epocas):\n",
        "        for j in range(batches_por_epoca):\n",
        "            dados_reais, rotulos_reais = gera_reais(dados, metade_batch)\n",
        "            modelo_d.train_on_batch(dados_reais, rotulos_reais)\n",
        "            dados_falsos, rotulos_falsos = gera_falsos(metade_batch)\n",
        "            modelo_d.train_on_batch(dados_falsos, rotulos_falsos)\n",
        "            dados_gan = gera_pontos_latentes(dim_latente, tam_batch)\n",
        "            rotulos_gan = ones((tam_batch, 1))\n",
        "            gan_perda = modelo_gan.train_on_batch(dados_gan, rotulos_gan)"
      ]
    }
  ],
  "metadata": {
    "kernelspec": {
      "display_name": "Python 3",
      "language": "python",
      "name": "python3"
    },
    "language_info": {
      "codemirror_mode": {
        "name": "ipython",
        "version": 3
      },
      "file_extension": ".py",
      "mimetype": "text/x-python",
      "name": "python",
      "nbconvert_exporter": "python",
      "pygments_lexer": "ipython3",
      "version": "3.10.8"
    },
    "orig_nbformat": 4,
    "colab": {
      "provenance": []
    }
  },
  "nbformat": 4,
  "nbformat_minor": 0
}